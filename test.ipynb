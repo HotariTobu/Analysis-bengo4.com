{
 "cells": [
  {
   "cell_type": "code",
   "execution_count": null,
   "metadata": {},
   "outputs": [],
   "source": [
    "import spacy\n",
    "import ginza\n",
    "\n",
    "nlp = spacy.load('ja_ginza')\n",
    "ginza.set_split_mode(nlp, 'C')\n",
    "\n",
    "doc = nlp('依存構造文の解析をGinzaで行います。')\n",
    "for sent in doc.sents:\n",
    "    for token in sent:\n",
    "        print(token.i, token.orth_, token.lemma_, token.pos_, token.tag_, token.dep_, token.head.i)\n",
    "    print('EOS')"
   ]
  },
  {
   "cell_type": "code",
   "execution_count": 1,
   "metadata": {},
   "outputs": [],
   "source": [
    "import pygraphviz as pgv\n",
    "G = pgv.AGraph()\n",
    "G.add_node(\"a\")  # adds node 'a'\n",
    "G.add_edge(\"b\", \"c\")  # adds edge 'b'-'c' (and also nodes 'b', 'c')\n",
    "G.layout()\n",
    "G.draw(\"file.png\")"
   ]
  }
 ],
 "metadata": {
  "kernelspec": {
   "display_name": "env",
   "language": "python",
   "name": "python3"
  },
  "language_info": {
   "codemirror_mode": {
    "name": "ipython",
    "version": 3
   },
   "file_extension": ".py",
   "mimetype": "text/x-python",
   "name": "python",
   "nbconvert_exporter": "python",
   "pygments_lexer": "ipython3",
   "version": "3.10.7"
  },
  "orig_nbformat": 4,
  "vscode": {
   "interpreter": {
    "hash": "038b7e22a722d1af0175dcf6f85aed570c2e3293f18f8470311fbf9b59d30a3a"
   }
  }
 },
 "nbformat": 4,
 "nbformat_minor": 2
}
