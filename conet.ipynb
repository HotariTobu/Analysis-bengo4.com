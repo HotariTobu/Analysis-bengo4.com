{
 "cells": [
  {
   "attachments": {},
   "cell_type": "markdown",
   "metadata": {},
   "source": [
    "# 共起ネットワーク"
   ]
  },
  {
   "attachments": {},
   "cell_type": "markdown",
   "metadata": {},
   "source": [
    "## 前準備"
   ]
  },
  {
   "attachments": {},
   "cell_type": "markdown",
   "metadata": {},
   "source": [
    "必要なライブラリのインポート"
   ]
  },
  {
   "cell_type": "code",
   "execution_count": null,
   "metadata": {},
   "outputs": [],
   "source": [
    "import csv\n",
    "\n",
    "import pandas as pd\n",
    "import networkx as nx\n",
    "import matplotlib.pyplot as plt\n",
    "\n",
    "from multiprocessing import Pool"
   ]
  },
  {
   "attachments": {},
   "cell_type": "markdown",
   "metadata": {},
   "source": [
    "関数の定義"
   ]
  },
  {
   "cell_type": "code",
   "execution_count": null,
   "metadata": {},
   "outputs": [],
   "source": [
    "def dftodict(df):\n",
    "    return {pair: (count, jaccrad) for pair, count, jaccrad in df.itertuples()}"
   ]
  },
  {
   "cell_type": "code",
   "execution_count": null,
   "metadata": {},
   "outputs": [],
   "source": [
    "def load(path):\n",
    "    df = pd.read_csv(path)\n",
    "    df.drop(df.columns[0], axis='columns', inplace=True)\n",
    "    df.set_index(['用語1', '用語2'], inplace=True)\n",
    "    return dftodict(df)"
   ]
  },
  {
   "attachments": {},
   "cell_type": "markdown",
   "metadata": {},
   "source": [
    "データの読み込み"
   ]
  },
  {
   "cell_type": "code",
   "execution_count": null,
   "metadata": {},
   "outputs": [],
   "source": [
    "cas = pd.read_csv('src/categories.csv').set_index('name')"
   ]
  },
  {
   "attachments": {},
   "cell_type": "markdown",
   "metadata": {},
   "source": [
    "## プロット"
   ]
  },
  {
   "cell_type": "code",
   "execution_count": null,
   "metadata": {},
   "outputs": [],
   "source": [
    "def project(values, floor, ceil):\n",
    "    if len(values) == 0:\n",
    "        return[]\n",
    "    \n",
    "    min_value = min(values)\n",
    "    max_value = max(values)\n",
    "\n",
    "    src_range = max_value - min_value\n",
    "    dst_range = ceil - floor\n",
    "\n",
    "    if (src_range == 0):\n",
    "        src_range = min_value\n",
    "\n",
    "    if (src_range == 0):\n",
    "        src_range = 1\n",
    "\n",
    "    projected_values = []\n",
    "    for value in values:\n",
    "\n",
    "        projected_value = value\n",
    "        projected_value -= min_value\n",
    "        projected_value /= src_range\n",
    "        projected_value *= dst_range\n",
    "        projected_value += floor\n",
    "\n",
    "        projected_values.append(projected_value)\n",
    "\n",
    "    return projected_values"
   ]
  },
  {
   "cell_type": "code",
   "execution_count": null,
   "metadata": {},
   "outputs": [],
   "source": [
    "def conet(jaccard_dict, output_path, min_count=4, edge_th=0.2):\n",
    "    G = nx.Graph()\n",
    "    \n",
    "    for (term1, term2), (count, coef) in jaccard_dict.items():\n",
    "        if count < min_count or coef < edge_th:\n",
    "            continue\n",
    "\n",
    "        G.add_edge(term1, term2, penwidth=coef)\n",
    "\n",
    "    pageranks = nx.pagerank(G, weight='penwidth')\n",
    "    node_colors = project(pageranks.values(), 0, 1)\n",
    "\n",
    "    agraph = nx.nx_agraph.to_agraph(G)\n",
    "\n",
    "    agraph.node_attr[\"style\"] = \"filled\"\n",
    "    agraph.node_attr[\"shape\"] = \"circle\"\n",
    "    # agraph.node_attr[\"fontcolor\"] = \"#FFFFFF\"\n",
    "\n",
    "    for v, color in zip(pageranks, node_colors):\n",
    "        rgba = plt.cm.terrain(color)\n",
    "        r, g, b, a = [int(x * 255) for x in rgba]\n",
    "        agraph.get_node(v).attr['fillcolor'] = f\"#{r:2x}{g:2x}{b:2x}{a:2x}\"\n",
    "\n",
    "    # agraph.draw(output_path, prog=\"dot\", format=\"svg\")\n",
    "    # agraph.draw(output_path, prog=\"fdp\", format=\"svg\")\n",
    "    agraph.draw(output_path, prog=\"neato\", format=\"svg\")\n",
    "\n",
    "    return\n",
    "    \n",
    "    positions = nx.drawing.nx_agraph.graphviz_layout(\n",
    "        G,\n",
    "        prog='neato',\n",
    "        args=f\"-Gsep=`+6` -Gnodesep=1 -GpackMode=`graph`\",\n",
    "    )\n",
    "\n",
    "    node_scales = project(pageranks.values(), 1, 2)\n",
    "\n",
    "    plt.figure(figsize=(30, 15))\n",
    "    \n",
    "    nx.draw_networkx_nodes(\n",
    "        G,\n",
    "        positions,\n",
    "        node_color=node_colors,\n",
    "        cmap=plt.cm.terrain,\n",
    "        alpha=1.0,\n",
    "        node_size=[500 * scale for scale in node_scales],\n",
    "        edgecolors='black'\n",
    "    )\n",
    "    nx.draw_networkx_edges(\n",
    "        G,\n",
    "        positions,\n",
    "        alpha=0.7,\n",
    "        edge_color='black',\n",
    "        width=[weight * 8 for _, _, weight in G.edges(data='weight')]\n",
    "    )\n",
    "    nx.draw_networkx_labels(\n",
    "        G,\n",
    "        positions,\n",
    "        font_family='IPAexGothic',\n",
    "        font_size=6\n",
    "    )\n",
    "\n",
    "    plt.axis('off')\n",
    "    plt.tight_layout()\n",
    "    plt.savefig(output_path, bbox_inches='tight')"
   ]
  },
  {
   "cell_type": "code",
   "execution_count": null,
   "metadata": {},
   "outputs": [],
   "source": [
    "def conet(jaccard_iter, output_path, edge_th):\n",
    "    G = nx.Graph()\n",
    "\n",
    "    for term1, term2, _, coef in jaccard_iter:\n",
    "        coef = float(coef)\n",
    "        if coef < edge_th:\n",
    "            continue\n",
    "        \n",
    "        # THIS IS A BUG OF PYGRAPHVIZ #########################################\n",
    "        term1 = term1.replace('%', '\\%')\n",
    "        term2 = term2.replace('%', '\\%')\n",
    "        #######################################################################\n",
    "\n",
    "        G.add_edge(term1, term2, penwidth=coef * 10)\n",
    "\n",
    "    pageranks = nx.pagerank(G, weight='penwidth')\n",
    "    node_colors = project(pageranks.values(), 0, 1)\n",
    "\n",
    "    agraph = nx.nx_agraph.to_agraph(G)\n",
    "\n",
    "    agraph.node_attr[\"style\"] = \"filled\"\n",
    "    agraph.node_attr[\"shape\"] = \"circle\"\n",
    "    agraph.edge_attr['len'] = 5\n",
    "\n",
    "    for v, color in zip(pageranks, node_colors):\n",
    "        rgba = plt.cm.terrain(color)\n",
    "        r, g, b, a = [int(x * 255) for x in rgba]\n",
    "        agraph.get_node(v).attr['fillcolor'] = f\"#{r:2x}{g:2x}{b:2x}{a:2x}\"\n",
    "\n",
    "    agraph.draw(output_path, format=\"svg\", prog=\"neato\")"
   ]
  },
  {
   "cell_type": "code",
   "execution_count": null,
   "metadata": {},
   "outputs": [],
   "source": [
    "context = [\n",
    "    ('借金', 0.5),\n",
    "    ('交通事故', 0.5),\n",
    "    ('離婚・男女問題', 0.5),\n",
    "    ('相続', 0.5),\n",
    "    ('労働', 0.5),\n",
    "    ('債権回収', 0.5),\n",
    "    ('医療', 0.5),\n",
    "    ('消費者被害', 0.5),\n",
    "    ('税務訴訟', 0.2),\n",
    "    ('国際・外国人問題', 0.2),\n",
    "    ('民事・その他', 0.2),\n",
    "    ('インターネット', 0.5),\n",
    "    ('犯罪・刑事事件', 0.5),\n",
    "    ('不動産・建築', 0.5),\n",
    "    ('企業法務', 0.5),\n",
    "    ('行政事件', 0.5),\n",
    "    ('民事紛争の解決手続き', 0.5),\n",
    "    ('qus_title_terms', 0.2),\n",
    "    ('qus_body_terms', 0.5),\n",
    "    ('ans_body_terms', 0.5),\n",
    "    ('all_terms', 0.5)\n",
    "]"
   ]
  },
  {
   "cell_type": "code",
   "execution_count": null,
   "metadata": {},
   "outputs": [],
   "source": [
    "def loadconet(filename, th):\n",
    "    input_path = f\"dst/jaccard/{filename}.csv\"\n",
    "    output_path = f\"dst/conet/{filename}.svg\"\n",
    "\n",
    "    # jaccard = load(f\"dst/jaccard/{filename}.csv\")\n",
    "    # conet(jaccard, f\"dst/conet/{filename}.svg\", edge_th=th)\n",
    "    \n",
    "    with open(input_path, 'r', encoding='utf8') as f:\n",
    "        header = f.readline().strip()\n",
    "        if header != '用語1,用語2,出現回数,Jaccard':\n",
    "            if input('The header looks wrong! Continue? (Y/n): ') != 'Y':\n",
    "                return\n",
    "                \n",
    "        conet(csv.reader(f), output_path, edge_th=th)\n",
    "\n",
    "    print('Done:', filename)"
   ]
  },
  {
   "cell_type": "code",
   "execution_count": null,
   "metadata": {},
   "outputs": [],
   "source": [
    "for filename, th in context:\n",
    "    loadconet(filename, th)"
   ]
  },
  {
   "cell_type": "code",
   "execution_count": null,
   "metadata": {},
   "outputs": [],
   "source": [
    "# if __name__ == '__main__':\n",
    "#     with Pool(3) as p:\n",
    "#         p.starmap(loadconet, context)"
   ]
  }
 ],
 "metadata": {
  "kernelspec": {
   "display_name": "env",
   "language": "python",
   "name": "python3"
  },
  "language_info": {
   "codemirror_mode": {
    "name": "ipython",
    "version": 3
   },
   "file_extension": ".py",
   "mimetype": "text/x-python",
   "name": "python",
   "nbconvert_exporter": "python",
   "pygments_lexer": "ipython3",
   "version": "3.10.7"
  },
  "orig_nbformat": 4,
  "vscode": {
   "interpreter": {
    "hash": "038b7e22a722d1af0175dcf6f85aed570c2e3293f18f8470311fbf9b59d30a3a"
   }
  }
 },
 "nbformat": 4,
 "nbformat_minor": 2
}
