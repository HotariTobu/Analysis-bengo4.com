{
 "cells": [
  {
   "attachments": {},
   "cell_type": "markdown",
   "metadata": {},
   "source": [
    "# 共起ネットワーク"
   ]
  },
  {
   "attachments": {},
   "cell_type": "markdown",
   "metadata": {},
   "source": [
    "## 前準備"
   ]
  },
  {
   "attachments": {},
   "cell_type": "markdown",
   "metadata": {},
   "source": [
    "必要なライブラリのインポート"
   ]
  },
  {
   "cell_type": "code",
   "execution_count": 1,
   "metadata": {},
   "outputs": [],
   "source": [
    "import pandas as pd\n",
    "import networkx as nx\n",
    "import matplotlib.pyplot as plt\n",
    "\n",
    "from multiprocessing import Pool"
   ]
  },
  {
   "attachments": {},
   "cell_type": "markdown",
   "metadata": {},
   "source": [
    "関数の定義"
   ]
  },
  {
   "cell_type": "code",
   "execution_count": 2,
   "metadata": {},
   "outputs": [],
   "source": [
    "def dftodict(df):\n",
    "    return {pair: (count, jaccrad) for pair, count, jaccrad in df.itertuples()}"
   ]
  },
  {
   "cell_type": "code",
   "execution_count": 3,
   "metadata": {},
   "outputs": [],
   "source": [
    "def load(path):\n",
    "    df = pd.read_csv(path)\n",
    "    df.drop(df.columns[0], axis='columns', inplace=True)\n",
    "    df.set_index(['用語1', '用語2'], inplace=True)\n",
    "    return dftodict(df)"
   ]
  },
  {
   "attachments": {},
   "cell_type": "markdown",
   "metadata": {},
   "source": [
    "データの読み込み"
   ]
  },
  {
   "cell_type": "code",
   "execution_count": 4,
   "metadata": {},
   "outputs": [],
   "source": [
    "cas = pd.read_csv('src/categories.csv').set_index('name')"
   ]
  },
  {
   "attachments": {},
   "cell_type": "markdown",
   "metadata": {},
   "source": [
    "## プロット"
   ]
  },
  {
   "cell_type": "code",
   "execution_count": 5,
   "metadata": {},
   "outputs": [],
   "source": [
    "def project(values, floor, ceil):\n",
    "    if len(values) == 0:\n",
    "        return[]\n",
    "    \n",
    "    min_value = min(values)\n",
    "    max_value = max(values)\n",
    "\n",
    "    src_range = max_value - min_value\n",
    "    dst_range = ceil - floor\n",
    "\n",
    "    if (src_range == 0):\n",
    "        src_range = min_value\n",
    "\n",
    "    if (src_range == 0):\n",
    "        src_range = 1\n",
    "\n",
    "    projected_values = []\n",
    "    for value in values:\n",
    "\n",
    "        projected_value = value\n",
    "        projected_value -= min_value\n",
    "        projected_value /= src_range\n",
    "        projected_value *= dst_range\n",
    "        projected_value += floor\n",
    "\n",
    "        projected_values.append(projected_value)\n",
    "\n",
    "    return projected_values"
   ]
  },
  {
   "cell_type": "code",
   "execution_count": 20,
   "metadata": {},
   "outputs": [],
   "source": [
    "def conet(jaccard_dict, output_path, min_count=4, edge_th=0.2):\n",
    "    G = nx.Graph()\n",
    "    \n",
    "    for (term1, term2), (count, coef) in jaccard_dict.items():\n",
    "        if count < min_count or coef < edge_th:\n",
    "            continue\n",
    "\n",
    "        G.add_node(term1)\n",
    "        G.add_node(term2)\n",
    "\n",
    "        G.add_edge(term1, term2, width=coef)\n",
    "\n",
    "    pageranks = nx.pagerank(G, weight='width')\n",
    "    node_colors = project(pageranks.values(), 0, 1)\n",
    "\n",
    "    # agraph = nx.nx_agraph.to_agraph(G)\n",
    "\n",
    "    # agraph.node_attr[\"style\"] = \"filled\"\n",
    "    # agraph.node_attr[\"shape\"] = \"circle\"\n",
    "    # # agraph.node_attr[\"fontcolor\"] = \"#FFFFFF\"\n",
    "\n",
    "    # for v, color in zip(pageranks, node_colors):\n",
    "    #     r, g, b, a = plt.cm.terrain(color)\n",
    "    #     agraph.get_node(v).attr['fillcolor'] = f\"#{r * 255:2x}{g * 255:2x}{b * 255:2x}{a * 255:2x}\"\n",
    "\n",
    "    # # agraph.draw(output_path, prog=\"dot\", format=\"svg\")\n",
    "    # # agraph.draw(output_path, prog=\"fdp\", format=\"svg\")\n",
    "    # agraph.draw(output_path, prog=\"neato\", format=\"svg\")\n",
    "\n",
    "    # return\n",
    "    \n",
    "    positions = nx.drawing.nx_agraph.graphviz_layout(\n",
    "        G,\n",
    "        prog='neato',\n",
    "        args=f\"-Gsep=`+6` -Gnodesep=1 -GpackMode=`graph`\",\n",
    "    )\n",
    "\n",
    "    node_scales = project(pageranks.values(), 1, 2)\n",
    "\n",
    "    plt.figure(figsize=(30, 15))\n",
    "    \n",
    "    nx.draw_networkx_nodes(\n",
    "        G,\n",
    "        positions,\n",
    "        node_color=node_colors,\n",
    "        cmap=plt.cm.terrain,\n",
    "        alpha=1.0,\n",
    "        node_size=[500 * scale for scale in node_scales],\n",
    "        edgecolors='black'\n",
    "    )\n",
    "    nx.draw_networkx_edges(\n",
    "        G,\n",
    "        positions,\n",
    "        alpha=0.7,\n",
    "        edge_color='black',\n",
    "        width=[weight * 8 for _, _, weight in G.edges(data='weight')]\n",
    "    )\n",
    "    nx.draw_networkx_labels(\n",
    "        G,\n",
    "        positions,\n",
    "        font_family='IPAexGothic',\n",
    "        font_size=6\n",
    "    )\n",
    "\n",
    "    plt.axis('off')\n",
    "    plt.tight_layout()\n",
    "    plt.savefig(output_path, bbox_inches='tight')"
   ]
  },
  {
   "cell_type": "code",
   "execution_count": 15,
   "metadata": {},
   "outputs": [],
   "source": [
    "context = [\n",
    "    ('借金', 0.5),\n",
    "    ('交通事故', 0.5),\n",
    "    ('離婚・男女問題', 0.5),\n",
    "    ('相続', 0.5),\n",
    "    ('労働', 0.5),\n",
    "    ('債権回収', 0.5),\n",
    "    ('医療', 0.5),\n",
    "    ('消費者被害', 0.5),\n",
    "    ('税務訴訟', 0.2),\n",
    "    ('国際・外国人問題', 0.2),\n",
    "    ('民事・その他', 0.2),\n",
    "    ('インターネット', 0.5),\n",
    "    ('犯罪・刑事事件', 0.5),\n",
    "    ('不動産・建築', 0.5),\n",
    "    ('企業法務', 0.5),\n",
    "    ('行政事件', 0.5),\n",
    "    ('民事紛争の解決手続き', 0.5),\n",
    "    ('qus_title_terms', 0.2),\n",
    "    ('qus_body_terms', 0.5),\n",
    "    ('ans_body_terms', 0.5),\n",
    "    ('all_terms', 0.5)\n",
    "]"
   ]
  },
  {
   "cell_type": "code",
   "execution_count": 16,
   "metadata": {},
   "outputs": [],
   "source": [
    "def loadconet(filename, th):\n",
    "    jaccard = load(f\"dst/jaccard/{filename}.csv\")\n",
    "    conet(jaccard, f\"dst/conet/{filename}.svg\", edge_th=th)\n",
    "    print('Done:', filename)\n"
   ]
  },
  {
   "cell_type": "code",
   "execution_count": 21,
   "metadata": {},
   "outputs": [
    {
     "ename": "KeyboardInterrupt",
     "evalue": "",
     "output_type": "error",
     "traceback": [
      "\u001b[0;31m---------------------------------------------------------------------------\u001b[0m",
      "\u001b[0;31mKeyboardInterrupt\u001b[0m                         Traceback (most recent call last)",
      "Cell \u001b[0;32mIn[21], line 2\u001b[0m\n\u001b[1;32m      1\u001b[0m \u001b[39mwith\u001b[39;00m Pool(\u001b[39m8\u001b[39m) \u001b[39mas\u001b[39;00m p:\n\u001b[0;32m----> 2\u001b[0m     p\u001b[39m.\u001b[39;49mstarmap(loadconet, context)\n",
      "File \u001b[0;32m~/.anyenv/envs/pyenv/versions/3.11.1/lib/python3.11/multiprocessing/pool.py:375\u001b[0m, in \u001b[0;36mPool.starmap\u001b[0;34m(self, func, iterable, chunksize)\u001b[0m\n\u001b[1;32m    369\u001b[0m \u001b[39mdef\u001b[39;00m \u001b[39mstarmap\u001b[39m(\u001b[39mself\u001b[39m, func, iterable, chunksize\u001b[39m=\u001b[39m\u001b[39mNone\u001b[39;00m):\n\u001b[1;32m    370\u001b[0m \u001b[39m    \u001b[39m\u001b[39m'''\u001b[39;00m\n\u001b[1;32m    371\u001b[0m \u001b[39m    Like `map()` method but the elements of the `iterable` are expected to\u001b[39;00m\n\u001b[1;32m    372\u001b[0m \u001b[39m    be iterables as well and will be unpacked as arguments. Hence\u001b[39;00m\n\u001b[1;32m    373\u001b[0m \u001b[39m    `func` and (a, b) becomes func(a, b).\u001b[39;00m\n\u001b[1;32m    374\u001b[0m \u001b[39m    '''\u001b[39;00m\n\u001b[0;32m--> 375\u001b[0m     \u001b[39mreturn\u001b[39;00m \u001b[39mself\u001b[39;49m\u001b[39m.\u001b[39;49m_map_async(func, iterable, starmapstar, chunksize)\u001b[39m.\u001b[39;49mget()\n",
      "File \u001b[0;32m~/.anyenv/envs/pyenv/versions/3.11.1/lib/python3.11/multiprocessing/pool.py:768\u001b[0m, in \u001b[0;36mApplyResult.get\u001b[0;34m(self, timeout)\u001b[0m\n\u001b[1;32m    767\u001b[0m \u001b[39mdef\u001b[39;00m \u001b[39mget\u001b[39m(\u001b[39mself\u001b[39m, timeout\u001b[39m=\u001b[39m\u001b[39mNone\u001b[39;00m):\n\u001b[0;32m--> 768\u001b[0m     \u001b[39mself\u001b[39;49m\u001b[39m.\u001b[39;49mwait(timeout)\n\u001b[1;32m    769\u001b[0m     \u001b[39mif\u001b[39;00m \u001b[39mnot\u001b[39;00m \u001b[39mself\u001b[39m\u001b[39m.\u001b[39mready():\n\u001b[1;32m    770\u001b[0m         \u001b[39mraise\u001b[39;00m \u001b[39mTimeoutError\u001b[39;00m\n",
      "File \u001b[0;32m~/.anyenv/envs/pyenv/versions/3.11.1/lib/python3.11/multiprocessing/pool.py:765\u001b[0m, in \u001b[0;36mApplyResult.wait\u001b[0;34m(self, timeout)\u001b[0m\n\u001b[1;32m    764\u001b[0m \u001b[39mdef\u001b[39;00m \u001b[39mwait\u001b[39m(\u001b[39mself\u001b[39m, timeout\u001b[39m=\u001b[39m\u001b[39mNone\u001b[39;00m):\n\u001b[0;32m--> 765\u001b[0m     \u001b[39mself\u001b[39;49m\u001b[39m.\u001b[39;49m_event\u001b[39m.\u001b[39;49mwait(timeout)\n",
      "File \u001b[0;32m~/.anyenv/envs/pyenv/versions/3.11.1/lib/python3.11/threading.py:622\u001b[0m, in \u001b[0;36mEvent.wait\u001b[0;34m(self, timeout)\u001b[0m\n\u001b[1;32m    620\u001b[0m signaled \u001b[39m=\u001b[39m \u001b[39mself\u001b[39m\u001b[39m.\u001b[39m_flag\n\u001b[1;32m    621\u001b[0m \u001b[39mif\u001b[39;00m \u001b[39mnot\u001b[39;00m signaled:\n\u001b[0;32m--> 622\u001b[0m     signaled \u001b[39m=\u001b[39m \u001b[39mself\u001b[39;49m\u001b[39m.\u001b[39;49m_cond\u001b[39m.\u001b[39;49mwait(timeout)\n\u001b[1;32m    623\u001b[0m \u001b[39mreturn\u001b[39;00m signaled\n",
      "File \u001b[0;32m~/.anyenv/envs/pyenv/versions/3.11.1/lib/python3.11/threading.py:320\u001b[0m, in \u001b[0;36mCondition.wait\u001b[0;34m(self, timeout)\u001b[0m\n\u001b[1;32m    318\u001b[0m \u001b[39mtry\u001b[39;00m:    \u001b[39m# restore state no matter what (e.g., KeyboardInterrupt)\u001b[39;00m\n\u001b[1;32m    319\u001b[0m     \u001b[39mif\u001b[39;00m timeout \u001b[39mis\u001b[39;00m \u001b[39mNone\u001b[39;00m:\n\u001b[0;32m--> 320\u001b[0m         waiter\u001b[39m.\u001b[39;49macquire()\n\u001b[1;32m    321\u001b[0m         gotit \u001b[39m=\u001b[39m \u001b[39mTrue\u001b[39;00m\n\u001b[1;32m    322\u001b[0m     \u001b[39melse\u001b[39;00m:\n",
      "\u001b[0;31mKeyboardInterrupt\u001b[0m: "
     ]
    }
   ],
   "source": [
    "with Pool(8) as p:\n",
    "    p.starmap(loadconet, context)"
   ]
  }
 ],
 "metadata": {
  "kernelspec": {
   "display_name": "Python 3",
   "language": "python",
   "name": "python3"
  },
  "language_info": {
   "codemirror_mode": {
    "name": "ipython",
    "version": 3
   },
   "file_extension": ".py",
   "mimetype": "text/x-python",
   "name": "python",
   "nbconvert_exporter": "python",
   "pygments_lexer": "ipython3",
   "version": "3.11.1"
  },
  "orig_nbformat": 4,
  "vscode": {
   "interpreter": {
    "hash": "e6b381b1692f04bf65a696df9c43924feb4bfb5df70c6ae5d6a7d969fb26b5c3"
   }
  }
 },
 "nbformat": 4,
 "nbformat_minor": 2
}
